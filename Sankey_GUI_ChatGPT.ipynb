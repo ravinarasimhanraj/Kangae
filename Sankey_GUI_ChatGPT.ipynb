{
 "cells": [
  {
   "cell_type": "code",
   "execution_count": 1,
   "id": "9110c910",
   "metadata": {},
   "outputs": [
    {
     "name": "stdout",
     "output_type": "stream",
     "text": [
      "Requirement already satisfied: PySimpleGUI in /Users/kumaran/opt/anaconda3/lib/python3.9/site-packages (4.60.4)\n",
      "Requirement already satisfied: kaleido in /Users/kumaran/opt/anaconda3/lib/python3.9/site-packages (0.2.1)\n"
     ]
    }
   ],
   "source": [
    "!pip install PySimpleGUI\n",
    "!pip install -U kaleido\n",
    "import pandas as pd\n",
    "import plotly.graph_objects as go\n",
    "import PySimpleGUI as sg\n",
    "\n",
    "# Define the GUI layout\n",
    "layout = [\n",
    "    [sg.Text('Sankey Diagram')],\n",
    "    [sg.Text('Upload Data', size=(15, 1)), sg.InputText(key='file_path'), sg.FileBrowse()],\n",
    "    [sg.Text('Source Column', size=(15, 1)), sg.InputText(key='source_col')],\n",
    "    [sg.Text('Target Column', size=(15, 1)), sg.InputText(key='target_col')],\n",
    "    [sg.Text('Value Column', size=(15, 1)), sg.InputText(key='value_col')],\n",
    "    [sg.Button('Run'), sg.Button('Exit')],\n",
    "    [sg.Image(key='sankey_plot')]\n",
    "]\n",
    "\n",
    "# Create the window\n",
    "window = sg.Window('Sankey Diagram', layout)\n",
    "\n",
    "# Event loop\n",
    "while True:\n",
    "    event, values = window.read()\n",
    "    \n",
    "    if event == 'Exit' or event == sg.WIN_CLOSED:\n",
    "        break\n",
    "    \n",
    "    if event == 'Run':\n",
    "        # Load the data\n",
    "        try:\n",
    "            data = pd.read_csv(values['file_path'])\n",
    "        except Exception as e:\n",
    "            sg.popup_error(f'Error loading data: {e}')\n",
    "            continue\n",
    "        \n",
    "        # Create the Sankey diagram\n",
    "        try:\n",
    "            fig = go.Figure(data=[go.Sankey(\n",
    "                node=dict(\n",
    "                    pad=15,\n",
    "                    thickness=20,\n",
    "                    line=dict(color='black', width=0.5),\n",
    "                    label=data[values['source_col']].drop_duplicates().tolist() + \n",
    "                          data[values['target_col']].drop_duplicates().tolist(),\n",
    "                    color='blue'\n",
    "                ),\n",
    "                link=dict(\n",
    "                    source=data[values['source_col']].map(\n",
    "                        {node: idx for idx, node in enumerate(data[values['source_col']].unique())}\n",
    "                    ),\n",
    "                    target=data[values['target_col']].map(\n",
    "                        {node: idx + len(data[values['source_col']].unique()) for idx, node in \n",
    "                         enumerate(data[values['target_col']].unique())}\n",
    "                    ),\n",
    "                    value=data[values['value_col']]\n",
    "                )\n",
    "            )])\n",
    "            fig.update_layout(title='Sankey Diagram', font_size=10)\n",
    "            sankey_plot = fig.to_image(format='png')\n",
    "            window['sankey_plot'].update(data=sankey_plot)\n",
    "        except Exception as e:\n",
    "            sg.popup_error(f'Error creating Sankey diagram: {e}')\n",
    "            continue\n",
    "\n",
    "# Close the window\n",
    "window.close()\n"
   ]
  },
  {
   "cell_type": "code",
   "execution_count": null,
   "id": "f2b0c7cf",
   "metadata": {},
   "outputs": [],
   "source": []
  }
 ],
 "metadata": {
  "kernelspec": {
   "display_name": "Python 3 (ipykernel)",
   "language": "python",
   "name": "python3"
  },
  "language_info": {
   "codemirror_mode": {
    "name": "ipython",
    "version": 3
   },
   "file_extension": ".py",
   "mimetype": "text/x-python",
   "name": "python",
   "nbconvert_exporter": "python",
   "pygments_lexer": "ipython3",
   "version": "3.9.13"
  }
 },
 "nbformat": 4,
 "nbformat_minor": 5
}
